{
 "cells": [
  {
   "cell_type": "markdown",
   "metadata": {},
   "source": [
    "# Air quality in Bristol"
   ]
  },
  {
   "cell_type": "markdown",
   "metadata": {},
   "source": [
    "## Question: Did air quality in Bristol change during lockdown?\n",
    "\n",
    "This Python demonstration will look at a few gases related to air quality which are measured in and around Bristol, United Kingdom. The map below shows some of the locations of instruments which have been continuously measuring gases such as nitrogen monoxide, $NO$, and nitrogen dioxide, $NO_2$, in the air (these and other gases are collectively called $NO_x$). We have marked the location for the data we will be looking at as a black \"x\". This is from the monitoring instruments near the centre of Bristol on a road called Temple Way.\n",
    "\n",
    "See here for the [Air Quality Dashboard](https://opendata.bristol.gov.uk/pages/air-quality-dashboard-new/map#map)\n",
    "\n",
    "![Bristol map of continuous air quality monitoring](Bristol_AirQuality_Map.png)"
   ]
  },
  {
   "cell_type": "markdown",
   "metadata": {},
   "source": [
    "## Get started\n",
    "\n",
    "**To start: Look for the following button from the options above**\n",
    "\n",
    "![RunAllButton](RunAllButton.png)\n",
    "\n",
    "**Press this button (&#9193;, fast-forward symbol) and then select the red \"Restart and Run All Cells\" option**\n",
    "\n",
    "This will run all the code below."
   ]
  },
  {
   "cell_type": "markdown",
   "metadata": {},
   "source": [
    "For all question answers see the [full completed workbook with solutions](Answers_01_Demo_Scientific_Computing.ipynb)"
   ]
  },
  {
   "cell_type": "markdown",
   "metadata": {},
   "source": [
    "### Reading the data\n",
    "\n",
    "The code we are writing today is Python and the tool you are using is called a Jupyter notebook. This allows us to run Python code and to immediately see the results.\n",
    "\n",
    "We are going to be using a [library called `pandas`](https://pandas.pydata.org/docs/getting_started/intro_tutorials/01_table_oriented.html) which allows us to easily read and plot data. Below we read in our data file which has been downloaded from the [Open Data Bristol Archive](https://opendata.bristol.gov.uk/explore/dataset/air-quality-data-continuous/information/?disjunctive.location)."
   ]
  },
  {
   "cell_type": "code",
   "execution_count": null,
   "metadata": {},
   "outputs": [],
   "source": [
    "import pandas as pd\n",
    "\n",
    "data_filename = \"air-quality-bristol-temple-way.csv\"\n",
    "\n",
    "data = pd.read_csv(data_filename, parse_dates=True)"
   ]
  },
  {
   "cell_type": "code",
   "execution_count": null,
   "metadata": {},
   "outputs": [],
   "source": [
    "data"
   ]
  },
  {
   "cell_type": "markdown",
   "metadata": {},
   "source": [
    "We have created a variable called `data` which contains a table of information that we have extracted from a file.\n",
    "\n",
    "This contains the date and time that each measurement was taken at the Temple Way site, along with the measurement values for nitrogen monoxide, $NO$, nitrogen dioxide, $NO_2$ and the combination as $NO_x$. All measurements are in units of $\\mu g m^{-3}$ (micrograms per meter cubed)."
   ]
  },
  {
   "cell_type": "markdown",
   "metadata": {},
   "source": [
    "---"
   ]
  },
  {
   "cell_type": "markdown",
   "metadata": {},
   "source": [
    "### Selecting dates\n",
    "\n",
    "If we look at the table above we can see this starts in 2017 and ends in 2021. If we want to extract data for just one year we can write:"
   ]
  },
  {
   "cell_type": "code",
   "execution_count": null,
   "metadata": {},
   "outputs": [],
   "source": [
    "data.loc[\"2017\"]"
   ]
  },
  {
   "cell_type": "markdown",
   "metadata": {},
   "source": [
    "**Question (1): How do you think you could extract the data for 2018?**\n",
    "\n",
    "*Add some text to the cell below and press the &#9205; Run button (play symbol). To run all the cells again in order press the &#9193; button (fast-forward symbol) and then select the red \"Restart and Run All Cells\" option.*"
   ]
  },
  {
   "cell_type": "code",
   "execution_count": null,
   "metadata": {},
   "outputs": [],
   "source": [
    "## ADD TEXT HERE\n"
   ]
  },
  {
   "cell_type": "markdown",
   "metadata": {},
   "source": [
    "[See answer notebook](Answers_01_Demo_Scientific_Computing.ipynb#Selecting-dates)"
   ]
  },
  {
   "cell_type": "markdown",
   "metadata": {},
   "source": [
    "---"
   ]
  },
  {
   "cell_type": "markdown",
   "metadata": {},
   "source": [
    "### Statistical properties\n",
    "\n",
    "We're going to save out the results both 2019 and 2020 to two separate names for easier access:"
   ]
  },
  {
   "cell_type": "code",
   "execution_count": null,
   "metadata": {},
   "outputs": [],
   "source": [
    "data_2019 = data.loc[\"2019\"]\n",
    "data_2020 = data.loc[\"2020\"]"
   ]
  },
  {
   "cell_type": "markdown",
   "metadata": {},
   "source": [
    "If we look at `data_2019` we can see that this contains all of our data related to 2019:"
   ]
  },
  {
   "cell_type": "code",
   "execution_count": null,
   "metadata": {},
   "outputs": [],
   "source": [
    "data_2019"
   ]
  },
  {
   "cell_type": "markdown",
   "metadata": {},
   "source": [
    "\n",
    "\n",
    "We can look at the average (mean) for all the columns by writing:"
   ]
  },
  {
   "cell_type": "code",
   "execution_count": null,
   "metadata": {},
   "outputs": [],
   "source": [
    "data_2019.mean()"
   ]
  },
  {
   "cell_type": "markdown",
   "metadata": {},
   "source": [
    "**Question (2): How could we find the average (mean) for the 2020 data?**\n",
    "\n",
    "*Add some text to the cell below and press the &#9205; Run button (play symbol). To run all the cells again in order press the &#9193; (fast-forward symbol) and then select the red \"Restart and Run All Cells\" option.*"
   ]
  },
  {
   "cell_type": "code",
   "execution_count": null,
   "metadata": {},
   "outputs": [],
   "source": [
    "## ADD TEXT HERE\n"
   ]
  },
  {
   "cell_type": "markdown",
   "metadata": {},
   "source": [
    "*Is the average higher or lower in 2020 compared to 2019 for the three gas measurements?*"
   ]
  },
  {
   "cell_type": "markdown",
   "metadata": {},
   "source": [
    "[See answer notebook](Answers_01_Demo_Scientific_Computing.ipynb#Statistical-properties)"
   ]
  },
  {
   "cell_type": "markdown",
   "metadata": {},
   "source": [
    "---"
   ]
  },
  {
   "cell_type": "markdown",
   "metadata": {},
   "source": [
    "### Creating plots\n",
    "\n",
    "We can also plot all of the measurements within `data` using:"
   ]
  },
  {
   "cell_type": "code",
   "execution_count": null,
   "metadata": {},
   "outputs": [],
   "source": [
    "data.plot()"
   ]
  },
  {
   "cell_type": "markdown",
   "metadata": {},
   "source": [
    "*There's lots of spikes but what does the overall trend look like? What year do we see the highest peaks?*"
   ]
  },
  {
   "cell_type": "markdown",
   "metadata": {},
   "source": [
    "We could smooth over the data by applying a rolling average over a time period. This means that we look at the average of all the values around each time point within a given time window.\n",
    "\n",
    "In this case we can find the rolling average for `data` using a window of 365 days (\"365D\") i.e. a year and save this to a new name called `data_rolling_average`."
   ]
  },
  {
   "cell_type": "code",
   "execution_count": null,
   "metadata": {},
   "outputs": [],
   "source": [
    "data_rolling_average = data.rolling(\"365D\").mean()\n",
    "data_rolling_average"
   ]
  },
  {
   "cell_type": "markdown",
   "metadata": {},
   "source": [
    "`data_rolling_average`, like `data`, is a table containing these measurements but this now contains the average values over each 365 day window."
   ]
  },
  {
   "cell_type": "markdown",
   "metadata": {},
   "source": [
    "**Question (3): How could we plot this new rolling average?**\n",
    "\n",
    "*Add some text to the cell below and press the &#9205; Run button (play symbol). To run all the cells again in order press the &#9193; button (fast-forward symbol) and then select the red \"Restart and Run All Cells\" option.*"
   ]
  },
  {
   "cell_type": "code",
   "execution_count": null,
   "metadata": {},
   "outputs": [],
   "source": [
    "## ADD TEXT HERE\n"
   ]
  },
  {
   "cell_type": "markdown",
   "metadata": {},
   "source": [
    "*In the United Kingdom, some periods of extended lockdown occured within 2020. Do the measured values in 2020 look lower than 2019 (or earlier years)?*"
   ]
  },
  {
   "cell_type": "markdown",
   "metadata": {},
   "source": [
    "[See answer notebook](Answers_01_Demo_Scientific_Computing.ipynb#Creating-plots)"
   ]
  },
  {
   "cell_type": "markdown",
   "metadata": {},
   "source": [
    "---"
   ]
  },
  {
   "cell_type": "markdown",
   "metadata": {},
   "source": [
    "**Additional analysis:** Can you think of any additional analysis you could try for these measurements?"
   ]
  }
 ],
 "metadata": {
  "kernelspec": {
   "display_name": "Python 3",
   "language": "python",
   "name": "python3"
  },
  "language_info": {
   "codemirror_mode": {
    "name": "ipython",
    "version": 3
   },
   "file_extension": ".py",
   "mimetype": "text/x-python",
   "name": "python",
   "nbconvert_exporter": "python",
   "pygments_lexer": "ipython3",
   "version": "3.8.5"
  }
 },
 "nbformat": 4,
 "nbformat_minor": 4
}
