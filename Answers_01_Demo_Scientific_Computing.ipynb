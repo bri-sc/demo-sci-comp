{
 "cells": [
  {
   "cell_type": "markdown",
   "metadata": {},
   "source": [
    "# Air quality in Bristol"
   ]
  },
  {
   "cell_type": "markdown",
   "metadata": {},
   "source": [
    "## Question: Did air quality in Bristol change during COVID lockdown?\n",
    "\n",
    "This Python demonstration will look at a few gases related to air quality which are measured in and around Bristol, United Kingdom. The map below shows some of the locations of instruments which have been continuously measuring gases such as nitrogen monoxide, $NO$, and nitrogen dioxide, $NO_2$, in the air (these and other gases are collectively called $NO_x$). We have marked the location for the data we will be looking at as a black \"x\". This is from the monitoring instruments near the centre of Bristol on a road called Temple Way (see [Site Information for Temple Way](https://uk-air.defra.gov.uk/networks/site-info?site_id=BR11)).\n",
    "\n",
    "See here for the [Air Quality Dashboard](https://opendata.bristol.gov.uk/apps/bcc::air-quality-dashboard/explore)\n",
    "\n",
    "![Bristol map of continuous air quality monitoring](Bristol_AirQuality_Map.png)"
   ]
  },
  {
   "cell_type": "markdown",
   "metadata": {},
   "source": [
    "## Get started\n",
    "\n",
    "**To start: Look for the following button from the options above**\n",
    "\n",
    "![RunAllButton](RunAllButton.png)\n",
    "\n",
    "**Press the button (&#9193;, fast-forward symbol) and then select the red \"Restart and Run All Cells\" option**"
   ]
  },
  {
   "cell_type": "markdown",
   "metadata": {},
   "source": [
    "### Reading the data\n",
    "\n",
    "The code we are writing today is Python and the tool you are using is called a Jupyter notebook. This allows us to run Python code and to immediately see the results.\n",
    "\n",
    "We are going to be using a [library called `pandas`](https://pandas.pydata.org/docs/getting_started/intro_tutorials/01_table_oriented.html) which allows us to easily read and plot data. Below we read in our data file which has been downloaded from the [Open Data Bristol Archive](https://opendata.bristol.gov.uk/explore/dataset/air-quality-data-continuous/information/?disjunctive.location)."
   ]
  },
  {
   "cell_type": "code",
   "execution_count": 1,
   "metadata": {},
   "outputs": [],
   "source": [
    "import pandas as pd\n",
    "\n",
    "data_filename = \"air-quality-bristol-temple-way.csv\"\n",
    "\n",
    "data = pd.read_csv(data_filename, parse_dates=True)"
   ]
  },
  {
   "cell_type": "code",
   "execution_count": 2,
   "metadata": {},
   "outputs": [
    {
     "data": {
      "text/html": [
       "<div>\n",
       "<style scoped>\n",
       "    .dataframe tbody tr th:only-of-type {\n",
       "        vertical-align: middle;\n",
       "    }\n",
       "\n",
       "    .dataframe tbody tr th {\n",
       "        vertical-align: top;\n",
       "    }\n",
       "\n",
       "    .dataframe thead th {\n",
       "        text-align: right;\n",
       "    }\n",
       "</style>\n",
       "<table border=\"1\" class=\"dataframe\">\n",
       "  <thead>\n",
       "    <tr style=\"text-align: right;\">\n",
       "      <th></th>\n",
       "      <th>NOx</th>\n",
       "      <th>NO</th>\n",
       "      <th>NO2</th>\n",
       "    </tr>\n",
       "  </thead>\n",
       "  <tbody>\n",
       "    <tr>\n",
       "      <th>2017-04-01 01:00:00</th>\n",
       "      <td>5.86245</td>\n",
       "      <td>0.21703</td>\n",
       "      <td>5.52967</td>\n",
       "    </tr>\n",
       "    <tr>\n",
       "      <th>2017-04-01 02:00:00</th>\n",
       "      <td>5.69543</td>\n",
       "      <td>0.48769</td>\n",
       "      <td>4.94764</td>\n",
       "    </tr>\n",
       "    <tr>\n",
       "      <th>2017-04-01 03:00:00</th>\n",
       "      <td>2.99784</td>\n",
       "      <td>0.42284</td>\n",
       "      <td>2.34951</td>\n",
       "    </tr>\n",
       "    <tr>\n",
       "      <th>2017-04-01 04:00:00</th>\n",
       "      <td>13.19003</td>\n",
       "      <td>2.47215</td>\n",
       "      <td>9.39946</td>\n",
       "    </tr>\n",
       "    <tr>\n",
       "      <th>2017-04-01 05:00:00</th>\n",
       "      <td>16.78793</td>\n",
       "      <td>2.01657</td>\n",
       "      <td>13.69589</td>\n",
       "    </tr>\n",
       "    <tr>\n",
       "      <th>...</th>\n",
       "      <td>...</td>\n",
       "      <td>...</td>\n",
       "      <td>...</td>\n",
       "    </tr>\n",
       "    <tr>\n",
       "      <th>2021-02-22 08:00:00</th>\n",
       "      <td>187.04200</td>\n",
       "      <td>66.98000</td>\n",
       "      <td>84.34100</td>\n",
       "    </tr>\n",
       "    <tr>\n",
       "      <th>2021-02-22 09:00:00</th>\n",
       "      <td>126.03400</td>\n",
       "      <td>32.43000</td>\n",
       "      <td>76.30900</td>\n",
       "    </tr>\n",
       "    <tr>\n",
       "      <th>2021-02-22 10:00:00</th>\n",
       "      <td>82.04600</td>\n",
       "      <td>13.22100</td>\n",
       "      <td>61.77400</td>\n",
       "    </tr>\n",
       "    <tr>\n",
       "      <th>2021-02-22 11:00:00</th>\n",
       "      <td>58.52300</td>\n",
       "      <td>8.23200</td>\n",
       "      <td>45.90000</td>\n",
       "    </tr>\n",
       "    <tr>\n",
       "      <th>2021-02-22 12:00:00</th>\n",
       "      <td>115.51500</td>\n",
       "      <td>32.92900</td>\n",
       "      <td>65.02500</td>\n",
       "    </tr>\n",
       "  </tbody>\n",
       "</table>\n",
       "<p>34164 rows × 3 columns</p>\n",
       "</div>"
      ],
      "text/plain": [
       "                           NOx        NO       NO2\n",
       "2017-04-01 01:00:00    5.86245   0.21703   5.52967\n",
       "2017-04-01 02:00:00    5.69543   0.48769   4.94764\n",
       "2017-04-01 03:00:00    2.99784   0.42284   2.34951\n",
       "2017-04-01 04:00:00   13.19003   2.47215   9.39946\n",
       "2017-04-01 05:00:00   16.78793   2.01657  13.69589\n",
       "...                        ...       ...       ...\n",
       "2021-02-22 08:00:00  187.04200  66.98000  84.34100\n",
       "2021-02-22 09:00:00  126.03400  32.43000  76.30900\n",
       "2021-02-22 10:00:00   82.04600  13.22100  61.77400\n",
       "2021-02-22 11:00:00   58.52300   8.23200  45.90000\n",
       "2021-02-22 12:00:00  115.51500  32.92900  65.02500\n",
       "\n",
       "[34164 rows x 3 columns]"
      ]
     },
     "execution_count": 2,
     "metadata": {},
     "output_type": "execute_result"
    }
   ],
   "source": [
    "data"
   ]
  },
  {
   "cell_type": "markdown",
   "metadata": {},
   "source": [
    "We have created a variable called `data` which contains a table of information that we have extracted from a file.\n",
    "\n",
    "This contains the date and time that each measurement was taken at the Temple Way site, along with the measurement values for nitrogen monoxide, $NO$, nitrogen dioxide, $NO_2$ and the combination as $NO_x$. All measurements are in units of $\\mu g m^{-3}$ (micrograms per meter cubed)."
   ]
  },
  {
   "cell_type": "markdown",
   "metadata": {},
   "source": [
    "---"
   ]
  },
  {
   "cell_type": "markdown",
   "metadata": {},
   "source": [
    "### Selecting dates\n",
    "\n",
    "If we look at the table above we can see this starts in 2017 and ends in 2021. If we want to extract data for just one year we can write:"
   ]
  },
  {
   "cell_type": "code",
   "execution_count": 3,
   "metadata": {},
   "outputs": [
    {
     "data": {
      "text/html": [
       "<div>\n",
       "<style scoped>\n",
       "    .dataframe tbody tr th:only-of-type {\n",
       "        vertical-align: middle;\n",
       "    }\n",
       "\n",
       "    .dataframe tbody tr th {\n",
       "        vertical-align: top;\n",
       "    }\n",
       "\n",
       "    .dataframe thead th {\n",
       "        text-align: right;\n",
       "    }\n",
       "</style>\n",
       "<table border=\"1\" class=\"dataframe\">\n",
       "  <thead>\n",
       "    <tr style=\"text-align: right;\">\n",
       "      <th></th>\n",
       "      <th>NOx</th>\n",
       "      <th>NO</th>\n",
       "      <th>NO2</th>\n",
       "    </tr>\n",
       "  </thead>\n",
       "  <tbody>\n",
       "    <tr>\n",
       "      <th>2017-04-01 01:00:00</th>\n",
       "      <td>5.86245</td>\n",
       "      <td>0.21703</td>\n",
       "      <td>5.52967</td>\n",
       "    </tr>\n",
       "    <tr>\n",
       "      <th>2017-04-01 02:00:00</th>\n",
       "      <td>5.69543</td>\n",
       "      <td>0.48769</td>\n",
       "      <td>4.94764</td>\n",
       "    </tr>\n",
       "    <tr>\n",
       "      <th>2017-04-01 03:00:00</th>\n",
       "      <td>2.99784</td>\n",
       "      <td>0.42284</td>\n",
       "      <td>2.34951</td>\n",
       "    </tr>\n",
       "    <tr>\n",
       "      <th>2017-04-01 04:00:00</th>\n",
       "      <td>13.19003</td>\n",
       "      <td>2.47215</td>\n",
       "      <td>9.39946</td>\n",
       "    </tr>\n",
       "    <tr>\n",
       "      <th>2017-04-01 05:00:00</th>\n",
       "      <td>16.78793</td>\n",
       "      <td>2.01657</td>\n",
       "      <td>13.69589</td>\n",
       "    </tr>\n",
       "    <tr>\n",
       "      <th>...</th>\n",
       "      <td>...</td>\n",
       "      <td>...</td>\n",
       "      <td>...</td>\n",
       "    </tr>\n",
       "    <tr>\n",
       "      <th>2017-12-31 19:00:00</th>\n",
       "      <td>22.83235</td>\n",
       "      <td>3.06604</td>\n",
       "      <td>18.13115</td>\n",
       "    </tr>\n",
       "    <tr>\n",
       "      <th>2017-12-31 20:00:00</th>\n",
       "      <td>22.05271</td>\n",
       "      <td>2.74518</td>\n",
       "      <td>17.84350</td>\n",
       "    </tr>\n",
       "    <tr>\n",
       "      <th>2017-12-31 21:00:00</th>\n",
       "      <td>22.38684</td>\n",
       "      <td>3.42256</td>\n",
       "      <td>17.13899</td>\n",
       "    </tr>\n",
       "    <tr>\n",
       "      <th>2017-12-31 22:00:00</th>\n",
       "      <td>18.87846</td>\n",
       "      <td>2.35301</td>\n",
       "      <td>15.27056</td>\n",
       "    </tr>\n",
       "    <tr>\n",
       "      <th>2017-12-31 23:00:00</th>\n",
       "      <td>27.12038</td>\n",
       "      <td>2.88778</td>\n",
       "      <td>22.69250</td>\n",
       "    </tr>\n",
       "  </tbody>\n",
       "</table>\n",
       "<p>6599 rows × 3 columns</p>\n",
       "</div>"
      ],
      "text/plain": [
       "                          NOx       NO       NO2\n",
       "2017-04-01 01:00:00   5.86245  0.21703   5.52967\n",
       "2017-04-01 02:00:00   5.69543  0.48769   4.94764\n",
       "2017-04-01 03:00:00   2.99784  0.42284   2.34951\n",
       "2017-04-01 04:00:00  13.19003  2.47215   9.39946\n",
       "2017-04-01 05:00:00  16.78793  2.01657  13.69589\n",
       "...                       ...      ...       ...\n",
       "2017-12-31 19:00:00  22.83235  3.06604  18.13115\n",
       "2017-12-31 20:00:00  22.05271  2.74518  17.84350\n",
       "2017-12-31 21:00:00  22.38684  3.42256  17.13899\n",
       "2017-12-31 22:00:00  18.87846  2.35301  15.27056\n",
       "2017-12-31 23:00:00  27.12038  2.88778  22.69250\n",
       "\n",
       "[6599 rows x 3 columns]"
      ]
     },
     "execution_count": 3,
     "metadata": {},
     "output_type": "execute_result"
    }
   ],
   "source": [
    "data.loc[\"2017\"]"
   ]
  },
  {
   "cell_type": "markdown",
   "metadata": {},
   "source": [
    "**Question (1): How do you think you could extract the data for 2018?**\n",
    "\n",
    "*Add some text to the cell below and press the &#9205; Run button (play symbol). To run all the cells again in order press the &#9193; button (fast-forward symbol) and then select the red \"Restart and Run All Cells\" option.*"
   ]
  },
  {
   "cell_type": "code",
   "execution_count": 4,
   "metadata": {},
   "outputs": [
    {
     "data": {
      "text/html": [
       "<div>\n",
       "<style scoped>\n",
       "    .dataframe tbody tr th:only-of-type {\n",
       "        vertical-align: middle;\n",
       "    }\n",
       "\n",
       "    .dataframe tbody tr th {\n",
       "        vertical-align: top;\n",
       "    }\n",
       "\n",
       "    .dataframe thead th {\n",
       "        text-align: right;\n",
       "    }\n",
       "</style>\n",
       "<table border=\"1\" class=\"dataframe\">\n",
       "  <thead>\n",
       "    <tr style=\"text-align: right;\">\n",
       "      <th></th>\n",
       "      <th>NOx</th>\n",
       "      <th>NO</th>\n",
       "      <th>NO2</th>\n",
       "    </tr>\n",
       "  </thead>\n",
       "  <tbody>\n",
       "    <tr>\n",
       "      <th>2018-01-01 00:00:00</th>\n",
       "      <td>28.22000</td>\n",
       "      <td>2.80000</td>\n",
       "      <td>23.92000</td>\n",
       "    </tr>\n",
       "    <tr>\n",
       "      <th>2018-01-01 01:00:00</th>\n",
       "      <td>28.21501</td>\n",
       "      <td>2.79977</td>\n",
       "      <td>23.92208</td>\n",
       "    </tr>\n",
       "    <tr>\n",
       "      <th>2018-01-01 02:00:00</th>\n",
       "      <td>16.69265</td>\n",
       "      <td>2.18288</td>\n",
       "      <td>13.34562</td>\n",
       "    </tr>\n",
       "    <tr>\n",
       "      <th>2018-01-01 03:00:00</th>\n",
       "      <td>24.54041</td>\n",
       "      <td>2.24219</td>\n",
       "      <td>21.10243</td>\n",
       "    </tr>\n",
       "    <tr>\n",
       "      <th>2018-01-01 04:00:00</th>\n",
       "      <td>20.05334</td>\n",
       "      <td>2.45573</td>\n",
       "      <td>16.28793</td>\n",
       "    </tr>\n",
       "    <tr>\n",
       "      <th>...</th>\n",
       "      <td>...</td>\n",
       "      <td>...</td>\n",
       "      <td>...</td>\n",
       "    </tr>\n",
       "    <tr>\n",
       "      <th>2018-12-31 19:00:00</th>\n",
       "      <td>35.38411</td>\n",
       "      <td>5.08275</td>\n",
       "      <td>27.59068</td>\n",
       "    </tr>\n",
       "    <tr>\n",
       "      <th>2018-12-31 20:00:00</th>\n",
       "      <td>34.32500</td>\n",
       "      <td>3.86663</td>\n",
       "      <td>28.39625</td>\n",
       "    </tr>\n",
       "    <tr>\n",
       "      <th>2018-12-31 21:00:00</th>\n",
       "      <td>36.25066</td>\n",
       "      <td>4.17846</td>\n",
       "      <td>29.84379</td>\n",
       "    </tr>\n",
       "    <tr>\n",
       "      <th>2018-12-31 22:00:00</th>\n",
       "      <td>36.73208</td>\n",
       "      <td>4.73974</td>\n",
       "      <td>29.46458</td>\n",
       "    </tr>\n",
       "    <tr>\n",
       "      <th>2018-12-31 23:00:00</th>\n",
       "      <td>33.02517</td>\n",
       "      <td>4.11609</td>\n",
       "      <td>26.71392</td>\n",
       "    </tr>\n",
       "  </tbody>\n",
       "</table>\n",
       "<p>8760 rows × 3 columns</p>\n",
       "</div>"
      ],
      "text/plain": [
       "                          NOx       NO       NO2\n",
       "2018-01-01 00:00:00  28.22000  2.80000  23.92000\n",
       "2018-01-01 01:00:00  28.21501  2.79977  23.92208\n",
       "2018-01-01 02:00:00  16.69265  2.18288  13.34562\n",
       "2018-01-01 03:00:00  24.54041  2.24219  21.10243\n",
       "2018-01-01 04:00:00  20.05334  2.45573  16.28793\n",
       "...                       ...      ...       ...\n",
       "2018-12-31 19:00:00  35.38411  5.08275  27.59068\n",
       "2018-12-31 20:00:00  34.32500  3.86663  28.39625\n",
       "2018-12-31 21:00:00  36.25066  4.17846  29.84379\n",
       "2018-12-31 22:00:00  36.73208  4.73974  29.46458\n",
       "2018-12-31 23:00:00  33.02517  4.11609  26.71392\n",
       "\n",
       "[8760 rows x 3 columns]"
      ]
     },
     "execution_count": 4,
     "metadata": {},
     "output_type": "execute_result"
    }
   ],
   "source": [
    "## SUGGESTED SOLUTION\n",
    "data.loc[\"2018\"]"
   ]
  },
  {
   "cell_type": "markdown",
   "metadata": {},
   "source": [
    "---"
   ]
  },
  {
   "cell_type": "markdown",
   "metadata": {},
   "source": [
    "### Statistical properties\n",
    "\n",
    "We're going to save out the results both 2019 and 2020 to two separate names for easier access:"
   ]
  },
  {
   "cell_type": "code",
   "execution_count": 5,
   "metadata": {},
   "outputs": [],
   "source": [
    "data_2019 = data.loc[\"2019\"]\n",
    "data_2020 = data.loc[\"2020\"]"
   ]
  },
  {
   "cell_type": "markdown",
   "metadata": {},
   "source": [
    "If we look at `data_2019` we can see that this contains all of our data related to 2019:"
   ]
  },
  {
   "cell_type": "code",
   "execution_count": 6,
   "metadata": {},
   "outputs": [
    {
     "data": {
      "text/html": [
       "<div>\n",
       "<style scoped>\n",
       "    .dataframe tbody tr th:only-of-type {\n",
       "        vertical-align: middle;\n",
       "    }\n",
       "\n",
       "    .dataframe tbody tr th {\n",
       "        vertical-align: top;\n",
       "    }\n",
       "\n",
       "    .dataframe thead th {\n",
       "        text-align: right;\n",
       "    }\n",
       "</style>\n",
       "<table border=\"1\" class=\"dataframe\">\n",
       "  <thead>\n",
       "    <tr style=\"text-align: right;\">\n",
       "      <th></th>\n",
       "      <th>NOx</th>\n",
       "      <th>NO</th>\n",
       "      <th>NO2</th>\n",
       "    </tr>\n",
       "  </thead>\n",
       "  <tbody>\n",
       "    <tr>\n",
       "      <th>2019-01-01 00:00:00</th>\n",
       "      <td>20.6638</td>\n",
       "      <td>1.6550</td>\n",
       "      <td>18.1262</td>\n",
       "    </tr>\n",
       "    <tr>\n",
       "      <th>2019-01-01 01:00:00</th>\n",
       "      <td>22.1193</td>\n",
       "      <td>2.5756</td>\n",
       "      <td>18.1701</td>\n",
       "    </tr>\n",
       "    <tr>\n",
       "      <th>2019-01-01 02:00:00</th>\n",
       "      <td>27.0133</td>\n",
       "      <td>3.3514</td>\n",
       "      <td>21.8746</td>\n",
       "    </tr>\n",
       "    <tr>\n",
       "      <th>2019-01-01 03:00:00</th>\n",
       "      <td>27.0613</td>\n",
       "      <td>3.5065</td>\n",
       "      <td>21.6847</td>\n",
       "    </tr>\n",
       "    <tr>\n",
       "      <th>2019-01-01 04:00:00</th>\n",
       "      <td>23.6547</td>\n",
       "      <td>2.3273</td>\n",
       "      <td>20.0861</td>\n",
       "    </tr>\n",
       "    <tr>\n",
       "      <th>...</th>\n",
       "      <td>...</td>\n",
       "      <td>...</td>\n",
       "      <td>...</td>\n",
       "    </tr>\n",
       "    <tr>\n",
       "      <th>2019-12-31 19:00:00</th>\n",
       "      <td>199.5325</td>\n",
       "      <td>81.2340</td>\n",
       "      <td>74.9755</td>\n",
       "    </tr>\n",
       "    <tr>\n",
       "      <th>2019-12-31 20:00:00</th>\n",
       "      <td>56.0454</td>\n",
       "      <td>13.7633</td>\n",
       "      <td>34.9419</td>\n",
       "    </tr>\n",
       "    <tr>\n",
       "      <th>2019-12-31 21:00:00</th>\n",
       "      <td>85.3762</td>\n",
       "      <td>28.0465</td>\n",
       "      <td>42.3722</td>\n",
       "    </tr>\n",
       "    <tr>\n",
       "      <th>2019-12-31 22:00:00</th>\n",
       "      <td>65.1338</td>\n",
       "      <td>17.7699</td>\n",
       "      <td>37.8869</td>\n",
       "    </tr>\n",
       "    <tr>\n",
       "      <th>2019-12-31 23:00:00</th>\n",
       "      <td>57.7437</td>\n",
       "      <td>17.0053</td>\n",
       "      <td>31.6693</td>\n",
       "    </tr>\n",
       "  </tbody>\n",
       "</table>\n",
       "<p>8760 rows × 3 columns</p>\n",
       "</div>"
      ],
      "text/plain": [
       "                          NOx       NO      NO2\n",
       "2019-01-01 00:00:00   20.6638   1.6550  18.1262\n",
       "2019-01-01 01:00:00   22.1193   2.5756  18.1701\n",
       "2019-01-01 02:00:00   27.0133   3.3514  21.8746\n",
       "2019-01-01 03:00:00   27.0613   3.5065  21.6847\n",
       "2019-01-01 04:00:00   23.6547   2.3273  20.0861\n",
       "...                       ...      ...      ...\n",
       "2019-12-31 19:00:00  199.5325  81.2340  74.9755\n",
       "2019-12-31 20:00:00   56.0454  13.7633  34.9419\n",
       "2019-12-31 21:00:00   85.3762  28.0465  42.3722\n",
       "2019-12-31 22:00:00   65.1338  17.7699  37.8869\n",
       "2019-12-31 23:00:00   57.7437  17.0053  31.6693\n",
       "\n",
       "[8760 rows x 3 columns]"
      ]
     },
     "execution_count": 6,
     "metadata": {},
     "output_type": "execute_result"
    }
   ],
   "source": [
    "data_2019"
   ]
  },
  {
   "cell_type": "markdown",
   "metadata": {},
   "source": [
    "\n",
    "\n",
    "We can look at the average (mean) for all the columns by writing:"
   ]
  },
  {
   "cell_type": "code",
   "execution_count": 7,
   "metadata": {},
   "outputs": [
    {
     "data": {
      "text/plain": [
       "NOx    84.693537\n",
       "NO     29.640950\n",
       "NO2    39.249053\n",
       "dtype: float64"
      ]
     },
     "execution_count": 7,
     "metadata": {},
     "output_type": "execute_result"
    }
   ],
   "source": [
    "data_2019.mean()"
   ]
  },
  {
   "cell_type": "markdown",
   "metadata": {},
   "source": [
    "**Question (2): How could we find the average (mean) for the 2020 data?**\n",
    "\n",
    "*Add some text to the cell below and press the &#9205; Run button (play symbol). To run all the cells again in order press the &#9193; button (fast-forward symbol) and then select the red \"Restart and Run All Cells\" option.*"
   ]
  },
  {
   "cell_type": "code",
   "execution_count": 8,
   "metadata": {},
   "outputs": [
    {
     "data": {
      "text/plain": [
       "NOx    57.511950\n",
       "NO     19.106533\n",
       "NO2    28.215673\n",
       "dtype: float64"
      ]
     },
     "execution_count": 8,
     "metadata": {},
     "output_type": "execute_result"
    }
   ],
   "source": [
    "## SUGGESTED SOLUTION\n",
    "data_2020.mean()"
   ]
  },
  {
   "cell_type": "markdown",
   "metadata": {},
   "source": [
    "*Is the average higher or lower in 2020 compared to 2019 for the three gas measurements?*"
   ]
  },
  {
   "cell_type": "markdown",
   "metadata": {},
   "source": [
    "**Answer:** The average is higher in 2019 than 2020 for each of the three gas measurements."
   ]
  },
  {
   "cell_type": "markdown",
   "metadata": {},
   "source": [
    "---"
   ]
  },
  {
   "cell_type": "markdown",
   "metadata": {},
   "source": [
    "### Creating plots\n",
    "\n",
    "We can also plot all of the measurements within `data` using:"
   ]
  },
  {
   "cell_type": "code",
   "execution_count": 9,
   "metadata": {},
   "outputs": [
    {
     "data": {
      "text/plain": [
       "<Axes: >"
      ]
     },
     "execution_count": 9,
     "metadata": {},
     "output_type": "execute_result"
    },
    {
     "data": {
      "image/png": "[encoded data removed]",
      "text/plain": [
       "<Figure size 640x480 with 1 Axes>"
      ]
     },
     "metadata": {},
     "output_type": "display_data"
    }
   ],
   "source": [
    "data.plot()"
   ]
  },
  {
   "cell_type": "markdown",
   "metadata": {},
   "source": [
    "*There's lots of spikes but what does the overall trend look like? What year do we see the highest peaks?*"
   ]
  },
  {
   "cell_type": "markdown",
   "metadata": {},
   "source": [
    "We could smooth over the data by applying a rolling average over a time period. This means that we look at the average of all the values around each time point within a given time window.\n",
    "\n",
    "In this case we can find the rolling average for `data` using a window of 365 days (\"365D\") i.e. a year and save this to a new name called `data_rolling_average`."
   ]
  },
  {
   "cell_type": "code",
   "execution_count": 10,
   "metadata": {},
   "outputs": [
    {
     "data": {
      "text/html": [
       "<div>\n",
       "<style scoped>\n",
       "    .dataframe tbody tr th:only-of-type {\n",
       "        vertical-align: middle;\n",
       "    }\n",
       "\n",
       "    .dataframe tbody tr th {\n",
       "        vertical-align: top;\n",
       "    }\n",
       "\n",
       "    .dataframe thead th {\n",
       "        text-align: right;\n",
       "    }\n",
       "</style>\n",
       "<table border=\"1\" class=\"dataframe\">\n",
       "  <thead>\n",
       "    <tr style=\"text-align: right;\">\n",
       "      <th></th>\n",
       "      <th>NOx</th>\n",
       "      <th>NO</th>\n",
       "      <th>NO2</th>\n",
       "    </tr>\n",
       "  </thead>\n",
       "  <tbody>\n",
       "    <tr>\n",
       "      <th>2017-04-01 01:00:00</th>\n",
       "      <td>5.862450</td>\n",
       "      <td>0.217030</td>\n",
       "      <td>5.529670</td>\n",
       "    </tr>\n",
       "    <tr>\n",
       "      <th>2017-04-01 02:00:00</th>\n",
       "      <td>5.778940</td>\n",
       "      <td>0.352360</td>\n",
       "      <td>5.238655</td>\n",
       "    </tr>\n",
       "    <tr>\n",
       "      <th>2017-04-01 03:00:00</th>\n",
       "      <td>4.851907</td>\n",
       "      <td>0.375853</td>\n",
       "      <td>4.275607</td>\n",
       "    </tr>\n",
       "    <tr>\n",
       "      <th>2017-04-01 04:00:00</th>\n",
       "      <td>6.936437</td>\n",
       "      <td>0.899927</td>\n",
       "      <td>5.556570</td>\n",
       "    </tr>\n",
       "    <tr>\n",
       "      <th>2017-04-01 05:00:00</th>\n",
       "      <td>8.906736</td>\n",
       "      <td>1.123256</td>\n",
       "      <td>7.184434</td>\n",
       "    </tr>\n",
       "    <tr>\n",
       "      <th>...</th>\n",
       "      <td>...</td>\n",
       "      <td>...</td>\n",
       "      <td>...</td>\n",
       "    </tr>\n",
       "    <tr>\n",
       "      <th>2021-02-22 08:00:00</th>\n",
       "      <td>57.197562</td>\n",
       "      <td>19.120009</td>\n",
       "      <td>28.048168</td>\n",
       "    </tr>\n",
       "    <tr>\n",
       "      <th>2021-02-22 09:00:00</th>\n",
       "      <td>57.210922</td>\n",
       "      <td>19.123427</td>\n",
       "      <td>28.056261</td>\n",
       "    </tr>\n",
       "    <tr>\n",
       "      <th>2021-02-22 10:00:00</th>\n",
       "      <td>57.218816</td>\n",
       "      <td>19.124566</td>\n",
       "      <td>28.062392</td>\n",
       "    </tr>\n",
       "    <tr>\n",
       "      <th>2021-02-22 11:00:00</th>\n",
       "      <td>57.223741</td>\n",
       "      <td>19.125057</td>\n",
       "      <td>28.066556</td>\n",
       "    </tr>\n",
       "    <tr>\n",
       "      <th>2021-02-22 12:00:00</th>\n",
       "      <td>57.234309</td>\n",
       "      <td>19.128228</td>\n",
       "      <td>28.072241</td>\n",
       "    </tr>\n",
       "  </tbody>\n",
       "</table>\n",
       "<p>34164 rows × 3 columns</p>\n",
       "</div>"
      ],
      "text/plain": [
       "                           NOx         NO        NO2\n",
       "2017-04-01 01:00:00   5.862450   0.217030   5.529670\n",
       "2017-04-01 02:00:00   5.778940   0.352360   5.238655\n",
       "2017-04-01 03:00:00   4.851907   0.375853   4.275607\n",
       "2017-04-01 04:00:00   6.936437   0.899927   5.556570\n",
       "2017-04-01 05:00:00   8.906736   1.123256   7.184434\n",
       "...                        ...        ...        ...\n",
       "2021-02-22 08:00:00  57.197562  19.120009  28.048168\n",
       "2021-02-22 09:00:00  57.210922  19.123427  28.056261\n",
       "2021-02-22 10:00:00  57.218816  19.124566  28.062392\n",
       "2021-02-22 11:00:00  57.223741  19.125057  28.066556\n",
       "2021-02-22 12:00:00  57.234309  19.128228  28.072241\n",
       "\n",
       "[34164 rows x 3 columns]"
      ]
     },
     "execution_count": 10,
     "metadata": {},
     "output_type": "execute_result"
    }
   ],
   "source": [
    "data_rolling_average = data.rolling(\"365D\").mean()\n",
    "data_rolling_average"
   ]
  },
  {
   "cell_type": "markdown",
   "metadata": {},
   "source": [
    "`data_rolling_average`, like `data`, is a table containing these measurements but this now contains the average values over each 365 day window."
   ]
  },
  {
   "cell_type": "markdown",
   "metadata": {},
   "source": [
    "**Question (3): How could we plot this new rolling average?**\n",
    "\n",
    "*Add some text to the cell below and press the &#9205; Run button (play symbol). To run all the cells again in order press the &#9193; button (fast-forward symbol) and then select the red \"Restart and Run All Cells\" option.*"
   ]
  },
  {
   "cell_type": "code",
   "execution_count": 11,
   "metadata": {},
   "outputs": [
    {
     "data": {
      "text/plain": [
       "<Axes: >"
      ]
     },
     "execution_count": 11,
     "metadata": {},
     "output_type": "execute_result"
    },
    {
     "data": {
      "image/png": "[encoded data removed]",
      "text/plain": [
       "<Figure size 640x480 with 1 Axes>"
      ]
     },
     "metadata": {},
     "output_type": "display_data"
    }
   ],
   "source": [
    "## SUGGESTED SOLUTION\n",
    "data_rolling_average.plot()"
   ]
  },
  {
   "cell_type": "markdown",
   "metadata": {},
   "source": [
    "*Do the measured values in 2020 look lower than 2019 (or earlier years)?*"
   ]
  },
  {
   "cell_type": "markdown",
   "metadata": {},
   "source": [
    "**Answer:** Overall, these smoothed values in 2020 look lower than earlier years. This is most clear for $\\mathrm{NO_{x}}$ but can also be seen for the individual gases of $\\mathrm{NO}$ and $\\mathrm{NO_{2}}$ as well."
   ]
  },
  {
   "cell_type": "markdown",
   "metadata": {},
   "source": [
    "---"
   ]
  },
  {
   "cell_type": "markdown",
   "metadata": {},
   "source": [
    "**Additional analysis:** Can you think of any additional analysis you could try for these measurements?"
   ]
  }
 ],
 "metadata": {
  "kernelspec": {
   "display_name": "Python 3",
   "language": "python",
   "name": "python3"
  },
  "language_info": {
   "codemirror_mode": {
    "name": "ipython",
    "version": 3
   },
   "file_extension": ".py",
   "mimetype": "text/x-python",
   "name": "python",
   "nbconvert_exporter": "python",
   "pygments_lexer": "ipython3",
   "version": "3.10.9"
  }
 },
 "nbformat": 4,
 "nbformat_minor": 4
}
